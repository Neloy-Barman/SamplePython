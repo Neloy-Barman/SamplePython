{
  "nbformat": 4,
  "nbformat_minor": 0,
  "metadata": {
    "colab": {
      "provenance": []
    },
    "kernelspec": {
      "name": "python3",
      "display_name": "Python 3"
    },
    "language_info": {
      "name": "python"
    }
  },
  "cells": [
    {
      "cell_type": "markdown",
      "source": [
        "# **` THE HANGMAN GAME.`**"
      ],
      "metadata": {
        "id": "IPis-5T_b9A5"
      }
    },
    {
      "cell_type": "code",
      "source": [
        "import numpy as np\n",
        "\n",
        "# We took a list full of words.\n",
        "Bags_of_words = [\"meaningful\", \"Worcestershire\", \"Onomatopoeia\", \"Otorhinolaryngologist\", \"Phenomenon\", \"Quinoa\", \"abnegation\", \"admonish\", \"aggrandize\", \"Cognizant\", \"Demagogue\", \"Circumlocution\", \"Sanctimony\", \"Hippopotomonstrosesquippedaliophobia\", \"Pseudopseudohypoparathyroidism\"]\n",
        "\n",
        "# Choosing a random number between the indexes.\n",
        "import random\n",
        "num = random.randint(0, len(Bags_of_words)-1)\n",
        "\n",
        "# Choosing a word from there.\n",
        "Word = Bags_of_words[num]\n",
        "\n",
        "# Setting the life\n",
        "life = 6\n",
        "\n",
        "# Defining a function to print dash.\n",
        "def dash():\n",
        "  for i in Word:\n",
        "    print(\"_\", end = \" \")\n",
        "\n",
        "dash()\n",
        "\n",
        "# A list to print dash & letters in need.\n",
        "Place = [\"_\" for dash in range(len(Word))]\n",
        "\n",
        "# Separating the letters & keep in a list.\n",
        "X = []\n",
        "for i in Word:\n",
        "  X.append(i)\n",
        "\n",
        "# Getting the unique letters from the word to finish the game.\n",
        "X = np.array(X)\n",
        "Unique_letters = np.unique(X)\n",
        "\n",
        "# Getting the number of unique letters from the word to finish the game.\n",
        "total_letters = len(Unique_letters)\n",
        "\n",
        "\"\"\"\n",
        "  If the life gets to 0, then the game is over.\n",
        "  If all the words guessed mathces, then the game is finished.\n",
        "  Otherwise the game will continue.  \n",
        "\"\"\"\n",
        "\n",
        "while life > 0 and total_letters > 0:\n",
        "  \n",
        "  a = input(\"\\nGuess letter: \")\n",
        "\n",
        "  # If the guessed letter is in the word, then take it's position & keep them in a list.\n",
        "  if a in Word:\n",
        "    pos = []\n",
        "    for i in range(len(Word)):\n",
        "      if Word[i] == a:\n",
        "        pos.append(i)\n",
        "    \n",
        "    z = 0\n",
        "\n",
        "    counter = len(pos)\n",
        "\n",
        "    # Placing the positioned letter in place list.   \n",
        "    for i in range(len(X)):\n",
        "      if i == pos[z]:\n",
        "       Place[pos[z]] = a\n",
        "       counter -= 1\n",
        "       if counter > 0:\n",
        "          z += 1\n",
        "          \n",
        "    # Print the position of the letters & dashes after guess. \n",
        "    for i in range(len(Word)):\n",
        "      print(f\"{Place[i]}\", end=\" \")\n",
        "\n",
        "    # If the guess is correct, the subtract.\n",
        "    total_letters -= 1\n",
        "\n",
        "  # If the guess is wrong,\n",
        "  else: \n",
        "    print(\"\\nYou have guessesed a wrong letter.\")\n",
        "\n",
        "    for i in range(len(Word)):\n",
        "      print(f\"{Place[i]}\", end=\" \")\n",
        "\n",
        "    # Subtract life. \n",
        "    life -= 1\n",
        "\n",
        "    print(f\"\\nYou have {life} lifes left.\")\n",
        "\n",
        "if total_letters == 0 and life >=0:\n",
        "  print(\"\\n Hurray!! You have guessed all the letters correctly.\")\n",
        "else:\n",
        "  print(\"\\n Sorry, you failed....😥😥\")\n",
        "  "
      ],
      "metadata": {
        "id": "TAurKsJPb9Ex",
        "colab": {
          "base_uri": "https://localhost:8080/"
        },
        "outputId": "6c097161-bd9c-4fd7-a9d6-4f493387c117"
      },
      "execution_count": 3,
      "outputs": [
        {
          "output_type": "stream",
          "name": "stdout",
          "text": [
            "_ _ _ _ _ _ _ _ _ _ _ _ _ _ \n",
            "Guess letter: C\n",
            "\n",
            "You have guessesed a wrong letter.\n",
            "_ _ _ _ _ _ _ _ _ _ _ _ _ _ \n",
            "You have 5 lifes left.\n",
            "\n",
            "Guess letter: P\n",
            "\n",
            "You have guessesed a wrong letter.\n",
            "_ _ _ _ _ _ _ _ _ _ _ _ _ _ \n",
            "You have 4 lifes left.\n",
            "\n",
            "Guess letter: m\n",
            "\n",
            "You have guessesed a wrong letter.\n",
            "_ _ _ _ _ _ _ _ _ _ _ _ _ _ \n",
            "You have 3 lifes left.\n",
            "\n",
            "Guess letter: o\n",
            "_ o _ _ _ _ _ _ _ _ _ _ _ _ \n",
            "Guess letter: Wrces\n",
            "\n",
            "You have guessesed a wrong letter.\n",
            "_ o _ _ _ _ _ _ _ _ _ _ _ _ \n",
            "You have 2 lifes left.\n",
            "\n",
            "Guess letter: w\n",
            "\n",
            "You have guessesed a wrong letter.\n",
            "_ o _ _ _ _ _ _ _ _ _ _ _ _ \n",
            "You have 1 lifes left.\n",
            "\n",
            "Guess letter: r\n",
            "_ o r _ _ _ _ _ r _ _ _ r _ \n",
            "Guess letter: c\n",
            "_ o r c _ _ _ _ r _ _ _ r _ \n",
            "Guess letter: e\n",
            "_ o r c e _ _ e r _ _ _ r e \n",
            "Guess letter: s\n",
            "_ o r c e s _ e r s _ _ r e \n",
            "Guess letter: h\n",
            "_ o r c e s _ e r s h _ r e \n",
            "Guess letter: w\n",
            "\n",
            "You have guessesed a wrong letter.\n",
            "_ o r c e s _ e r s h _ r e \n",
            "You have 0 lifes left.\n",
            "\n",
            " Sorry, you failed....😥😥\n"
          ]
        }
      ]
    },
    {
      "cell_type": "code",
      "source": [],
      "metadata": {
        "id": "ppJ6V3yyb9Iw"
      },
      "execution_count": null,
      "outputs": []
    },
    {
      "cell_type": "code",
      "source": [],
      "metadata": {
        "id": "yn7CMxfwb9Ma"
      },
      "execution_count": null,
      "outputs": []
    }
  ]
}