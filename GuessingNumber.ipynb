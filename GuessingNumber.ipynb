{
  "nbformat": 4,
  "nbformat_minor": 0,
  "metadata": {
    "colab": {
      "provenance": []
    },
    "kernelspec": {
      "name": "python3",
      "display_name": "Python 3"
    },
    "language_info": {
      "name": "python"
    }
  },
  "cells": [
    {
      "cell_type": "markdown",
      "source": [
        "## **`GUESS THE NUMBER Game`**"
      ],
      "metadata": {
        "id": "zFYDjrMmdvKK"
      }
    },
    {
      "cell_type": "code",
      "execution_count": 3,
      "metadata": {
        "colab": {
          "base_uri": "https://localhost:8080/"
        },
        "id": "d4A4BLtIdrEH",
        "outputId": "89eee784-e96f-4a27-b37e-1ddc6f5b34ba"
      },
      "outputs": [
        {
          "output_type": "stream",
          "name": "stdout",
          "text": [
            "What's your name? Don\n",
            "Hey Don! I have a number for you. Can you guess it?\n",
            "Oh! You have 8 chances. Thank you.\n",
            "\n",
            "\n",
            "You have 8 chances left.\n",
            "Enter your guess: 50\n",
            "Wrong one!! You choose an upper number.\n",
            "\n",
            "\n",
            "You have 7 chances left.\n",
            "Enter your guess: 40\n",
            "Wrong one!! You choose an upper number.\n",
            "\n",
            "\n",
            "You have 6 chances left.\n",
            "Enter your guess: 30\n",
            "Wrong one!! You choose an upper number.\n",
            "\n",
            "\n",
            "You have 5 chances left.\n",
            "Enter your guess: 10\n",
            "Wrong one!! You choose an upper number.\n",
            "\n",
            "\n",
            "You have 4 chances left.\n",
            "Enter your guess: 5\n",
            "\n",
            "Congrates, Don You have won!!\n",
            "You have taken 5 tries to win.\n"
          ]
        }
      ],
      "source": [
        "\n",
        "name = input(\"What's your name? \")\n",
        "print(f\"Hey {name}! I have a number for you. Can you guess it?\")\n",
        "print(\"Oh! You have 8 chances. Thank you.\")\n",
        "\n",
        "import random\n",
        "num = random.randint(1,100) \n",
        "\n",
        "counter = 8\n",
        "\n",
        "while counter > 0:\n",
        "  print(\"\\n\")\n",
        "  print(f\"You have {counter} chances left.\")\n",
        "  guess = int(input(\"Enter your guess: \"))\n",
        "\n",
        "  if guess < 1 or guess > 100:\n",
        "    print(\"You have choosen a number out of the play....🙂🙂\")\n",
        "  elif guess < num:\n",
        "    print(\"Wrong one!! You choose a lower number.\")\n",
        "  elif guess > num:\n",
        "    print(\"Wrong one!! You choose an upper number.\")\n",
        "  elif guess == num:\n",
        "    counter -= 1\n",
        "    print(f\"\\nCongrates, {name} You have won!!\")\n",
        "    print(f\"You have taken {8-counter} tries to win.\")\n",
        "    break\n",
        "  elif guess != num and counter == 0:\n",
        "    print(f\"Your chance is over. The correct one is {num}.😎😎\") \n",
        "  \n",
        "  counter -= 1 \n"
      ]
    }
  ]
}